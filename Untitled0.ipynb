{
  "nbformat": 4,
  "nbformat_minor": 0,
  "metadata": {
    "colab": {
      "provenance": []
    },
    "kernelspec": {
      "name": "python3",
      "display_name": "Python 3"
    },
    "language_info": {
      "name": "python"
    }
  },
  "cells": [
    {
      "cell_type": "code",
      "execution_count": null,
      "metadata": {
        "colab": {
          "base_uri": "https://localhost:8080/"
        },
        "id": "mLi3YYKQF0IB",
        "outputId": "e0a6e675-7070-4e01-f496-1012c86b5966"
      },
      "outputs": [
        {
          "output_type": "stream",
          "name": "stdout",
          "text": [
            "KNN Accuracy: 1.0\n",
            "Downloading data from https://storage.googleapis.com/tensorflow/tf-keras-datasets/mnist.npz\n",
            "11490434/11490434 [==============================] - 1s 0us/step\n",
            "CNN Accuracy: 0.9832000136375427\n"
          ]
        }
      ],
      "source": [
        "from sklearn.datasets import load_iris\n",
        "from sklearn.model_selection import train_test_split\n",
        "from sklearn.neighbors import KNeighborsClassifier\n",
        "from tensorflow.keras.datasets import mnist\n",
        "from tensorflow.keras.models import Sequential\n",
        "from tensorflow.keras.layers import Conv2D, MaxPooling2D, Flatten, Dense\n",
        "from tensorflow.keras.utils import to_categorical\n",
        "\n",
        "# Load the iris dataset\n",
        "iris = load_iris()\n",
        "X = iris.data\n",
        "y = iris.target\n",
        "\n",
        "# Split the data into training and testing sets\n",
        "X_train, X_test, y_train, y_test = train_test_split(X, y, test_size=0.2, random_state=42)\n",
        "\n",
        "# K-Nearest Neighbors (KNN) Model\n",
        "knn = KNeighborsClassifier()\n",
        "knn.fit(X_train, y_train)\n",
        "knn_accuracy = knn.score(X_test, y_test)\n",
        "print(\"KNN Accuracy:\", knn_accuracy)\n",
        "\n",
        "# Convolutional Neural Network (CNN) Model\n",
        "(X_train, y_train), (X_test, y_test) = mnist.load_data()\n",
        "\n",
        "# Preprocess the data\n",
        "X_train = X_train.reshape(-1, 28, 28, 1)\n",
        "X_test = X_test.reshape(-1, 28, 28, 1)\n",
        "X_train = X_train.astype('float32') / 255.0\n",
        "X_test = X_test.astype('float32') / 255.0\n",
        "y_train = to_categorical(y_train)\n",
        "y_test = to_categorical(y_test)\n",
        "\n",
        "# Create the CNN model\n",
        "cnn = Sequential()\n",
        "cnn.add(Conv2D(32, (3, 3), activation='relu', input_shape=(28, 28, 1)))\n",
        "cnn.add(MaxPooling2D((2, 2)))\n",
        "cnn.add(Flatten())\n",
        "cnn.add(Dense(10, activation='softmax'))\n",
        "\n",
        "# Compile and train the model\n",
        "cnn.compile(optimizer='adam', loss='categorical_crossentropy', metrics=['accuracy'])\n",
        "cnn.fit(X_train, y_train, epochs=5, batch_size=32, verbose=0)\n",
        "cnn_accuracy = cnn.evaluate(X_test, y_test, verbose=0)[1]\n",
        "print(\"CNN Accuracy:\", cnn_accuracy)\n"
      ]
    },
    {
      "cell_type": "code",
      "source": [
        "# Import required libraries and modules\n",
        "from sklearn.datasets import load_iris\n",
        "from sklearn.model_selection import train_test_split\n",
        "from sklearn.neighbors import KNeighborsClassifier\n",
        "from tensorflow.keras.datasets import mnist\n",
        "from tensorflow.keras.models import Sequential\n",
        "from tensorflow.keras.layers import Conv2D, MaxPooling2D, Flatten, Dense\n",
        "from tensorflow.keras.utils import to_categorical\n",
        "\n",
        "# Load the iris dataset\n",
        "iris = load_iris()\n",
        "X = iris.data  # Features\n",
        "y = iris.target  # Labels\n",
        "\n",
        "# Split the data into training and testing sets\n",
        "X_train, X_test, y_train, y_test = train_test_split(X, y, test_size=0.2, random_state=42)\n",
        "\n",
        "# K-Nearest Neighbors (KNN) Model\n",
        "knn = KNeighborsClassifier()  # Create a KNN classifier object\n",
        "knn.fit(X_train, y_train)  # Train the model using the training data\n",
        "knn_accuracy = knn.score(X_test, y_test)  # Evaluate the model on the testing data\n",
        "print(\"KNN Accuracy:\", knn_accuracy)  # Print the accuracy of the KNN model\n",
        "\n",
        "# Convolutional Neural Network (CNN) Model\n",
        "(X_train, y_train), (X_test, y_test) = mnist.load_data()  # Load the MNIST dataset\n",
        "\n",
        "# Preprocess the data\n",
        "X_train = X_train.reshape(-1, 28, 28, 1)  # Reshape the training data to match the CNN input shape\n",
        "X_test = X_test.reshape(-1, 28, 28, 1)  # Reshape the testing data to match the CNN input shape\n",
        "X_train = X_train.astype('float32') / 255.0  # Normalize the training data between 0 and 1\n",
        "X_test = X_test.astype('float32') / 255.0  # Normalize the testing data between 0 and 1\n",
        "y_train = to_categorical(y_train)  # Convert the training labels to categorical format\n",
        "y_test = to_categorical(y_test)  # Convert the testing labels to categorical format\n",
        "\n",
        "# Create the CNN model\n",
        "cnn = Sequential()  # Create a sequential model\n",
        "cnn.add(Conv2D(32, (3, 3), activation='relu', input_shape=(28, 28, 1)))  # Add a convolutional layer with 32 filters, 3x3 kernel, and ReLU activation\n",
        "cnn.add(MaxPooling2D((2, 2)))  # Add a max pooling layer with 2x2 pool size\n",
        "cnn.add(Flatten())  # Flatten the output of the previous layer\n",
        "cnn.add(Dense(10, activation='softmax'))  # Add a dense layer with 10 units and softmax activation\n",
        "\n",
        "# Compile and train the model\n",
        "cnn.compile(optimizer='adam', loss='categorical_crossentropy', metrics=['accuracy'])  # Compile the model with Adam optimizer and categorical cross-entropy loss\n",
        "cnn.fit(X_train, y_train, epochs=5, batch_size=32, verbose=0)  # Train the model on the training data\n",
        "cnn_accuracy = cnn.evaluate(X_test, y_test, verbose=0)[1]  # Evaluate the model on the testing data\n",
        "print(\"CNN Accuracy:\", cnn_accuracy)  # Print the accuracy of the CNN model\n"
      ],
      "metadata": {
        "colab": {
          "base_uri": "https://localhost:8080/"
        },
        "id": "6d4RqDvgVy_u",
        "outputId": "450594c6-0dbe-4d50-fb86-4628dd162eea"
      },
      "execution_count": 3,
      "outputs": [
        {
          "output_type": "stream",
          "name": "stdout",
          "text": [
            "KNN Accuracy: 1.0\n",
            "CNN Accuracy: 0.9822999835014343\n"
          ]
        }
      ]
    },
    {
      "cell_type": "code",
      "source": [
        "from sklearn.datasets import load_iris\n",
        "from sklearn.model_selection import train_test_split\n",
        "from sklearn.neighbors import KNeighborsClassifier\n",
        "from tensorflow.keras.datasets import mnist\n",
        "from tensorflow.keras.models import Sequential\n",
        "from tensorflow.keras.layers import Conv2D, MaxPooling2D, Flatten, Dense\n",
        "from tensorflow.keras.utils import to_categorical\n",
        "\n",
        "# Load the iris dataset\n",
        "iris = load_iris()\n",
        "X_iris = iris.data\n",
        "y_iris = iris.target\n",
        "\n",
        "# Split the data into training and testing sets\n",
        "X_train_iris, X_test_iris, y_train_iris, y_test_iris = train_test_split(X_iris, y_iris, test_size=0.2, random_state=42)\n",
        "\n",
        "# K-Nearest Neighbors (KNN) Model\n",
        "knn = KNeighborsClassifier()\n",
        "knn.fit(X_train_iris, y_train_iris)\n",
        "knn_accuracy = knn.score(X_test_iris, y_test_iris)\n",
        "\n",
        "# Convolutional Neural Network (CNN) Model\n",
        "(X_train_mnist, y_train_mnist), (X_test_mnist, y_test_mnist) = mnist.load_data()\n",
        "\n",
        "# Preprocess the data\n",
        "X_train_mnist = X_train_mnist.reshape(-1, 28, 28, 1)\n",
        "X_test_mnist = X_test_mnist.reshape(-1, 28, 28, 1)\n",
        "X_train_mnist = X_train_mnist.astype('float32') / 255.0\n",
        "X_test_mnist = X_test_mnist.astype('float32') / 255.0\n",
        "y_train_mnist = to_categorical(y_train_mnist)\n",
        "y_test_mnist = to_categorical(y_test_mnist)\n",
        "\n",
        "# Create the CNN model\n",
        "cnn = Sequential()\n",
        "cnn.add(Conv2D(32, (3, 3), activation='relu', input_shape=(28, 28, 1)))\n",
        "cnn.add(MaxPooling2D((2, 2)))\n",
        "cnn.add(Flatten())\n",
        "cnn.add(Dense(10, activation='softmax'))\n",
        "\n",
        "# Compile and train the CNN model\n",
        "cnn.compile(optimizer='adam', loss='categorical_crossentropy', metrics=['accuracy'])\n",
        "cnn.fit(X_train_mnist, y_train_mnist, epochs=5, batch_size=32, verbose=0)\n",
        "cnn_accuracy = cnn.evaluate(X_test_mnist, y_test_mnist, verbose=0)[1]\n",
        "\n",
        "# Display the results\n",
        "print(\"KNN Accuracy:\", knn_accuracy)\n",
        "print(\"CNN Accuracy:\", cnn_accuracy)\n"
      ],
      "metadata": {
        "colab": {
          "base_uri": "https://localhost:8080/"
        },
        "id": "5_Z_MjzhIf-X",
        "outputId": "c15b66da-53f8-48ce-8d8f-16dafa74d4f6"
      },
      "execution_count": null,
      "outputs": [
        {
          "output_type": "stream",
          "name": "stdout",
          "text": [
            "KNN Accuracy: 1.0\n",
            "CNN Accuracy: 0.9839000105857849\n"
          ]
        }
      ]
    },
    {
      "cell_type": "code",
      "source": [
        "# Import required libraries and modules\n",
        "from sklearn.datasets import load_iris\n",
        "from sklearn.model_selection import train_test_split\n",
        "from sklearn.neighbors import KNeighborsClassifier\n",
        "from tensorflow.keras.datasets import mnist\n",
        "from tensorflow.keras.models import Sequential\n",
        "from tensorflow.keras.layers import Conv2D, MaxPooling2D, Flatten, Dense\n",
        "from tensorflow.keras.utils import to_categorical\n",
        "\n",
        "# Load the iris dataset\n",
        "iris = load_iris()\n",
        "X_iris = iris.data  # Features\n",
        "y_iris = iris.target  # Labels\n",
        "\n",
        "# Split the data into training and testing sets\n",
        "X_train_iris, X_test_iris, y_train_iris, y_test_iris = train_test_split(X_iris, y_iris, test_size=0.2, random_state=42)\n",
        "\n",
        "# K-Nearest Neighbors (KNN) Model\n",
        "knn = KNeighborsClassifier()  # Create a KNN classifier object\n",
        "knn.fit(X_train_iris, y_train_iris)  # Train the model using the training data\n",
        "knn_accuracy = knn.score(X_test_iris, y_test_iris)  # Evaluate the model on the testing data\n",
        "\n",
        "# Convolutional Neural Network (CNN) Model\n",
        "(X_train_mnist, y_train_mnist), (X_test_mnist, y_test_mnist) = mnist.load_data()  # Load the MNIST dataset\n",
        "\n",
        "# Preprocess the data\n",
        "X_train_mnist = X_train_mnist.reshape(-1, 28, 28, 1)  # Reshape the training data to match the CNN input shape\n",
        "X_test_mnist = X_test_mnist.reshape(-1, 28, 28, 1)  # Reshape the testing data to match the CNN input shape\n",
        "X_train_mnist = X_train_mnist.astype('float32') / 255.0  # Normalize the training data between 0 and 1\n",
        "X_test_mnist = X_test_mnist.astype('float32') / 255.0  # Normalize the testing data between 0 and 1\n",
        "y_train_mnist = to_categorical(y_train_mnist)  # Convert the training labels to categorical format\n",
        "y_test_mnist = to_categorical(y_test_mnist)  # Convert the testing labels to categorical format\n",
        "\n",
        "# Create the CNN model\n",
        "cnn = Sequential()  # Create a sequential model\n",
        "cnn.add(Conv2D(32, (3, 3), activation='relu', input_shape=(28, 28, 1)))  # Add a convolutional layer with 32 filters, 3x3 kernel, and ReLU activation\n",
        "cnn.add(MaxPooling2D((2, 2)))  # Add a max pooling layer with 2x2 pool size\n",
        "cnn.add(Flatten())  # Flatten the output of the previous layer\n",
        "cnn.add(Dense(10, activation='softmax'))  # Add a dense layer with 10 units and softmax activation\n",
        "\n",
        "# Compile and train the CNN model\n",
        "cnn.compile(optimizer='adam', loss='categorical_crossentropy', metrics=['accuracy'])  # Compile the model with Adam optimizer and categorical cross-entropy loss\n",
        "cnn.fit(X_train_mnist, y_train_mnist, epochs=5, batch_size=32, verbose=0)  # Train the model on the training data\n",
        "cnn_accuracy = cnn.evaluate(X_test_mnist, y_test_mnist, verbose=0)[1]  # Evaluate the model on the testing data\n",
        "\n",
        "# Display the results\n",
        "print(\"KNN Accuracy:\", knn_accuracy)  # Print the accuracy of the KNN model\n",
        "print(\"CNN Accuracy:\", cnn_accuracy)  # Print the accuracy of the CNN model\n"
      ],
      "metadata": {
        "colab": {
          "base_uri": "https://localhost:8080/"
        },
        "id": "UBp5ypOiWrg8",
        "outputId": "4b0c014d-b606-4af7-b983-e9a33cf61caf"
      },
      "execution_count": 2,
      "outputs": [
        {
          "output_type": "stream",
          "name": "stdout",
          "text": [
            "KNN Accuracy: 1.0\n",
            "CNN Accuracy: 0.9822999835014343\n"
          ]
        }
      ]
    }
  ]
}